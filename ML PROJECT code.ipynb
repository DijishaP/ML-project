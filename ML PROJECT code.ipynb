{
 "cells": [
  {
   "cell_type": "markdown",
   "id": "2261b663",
   "metadata": {},
   "source": [
    "# Recommendation System - Part 1"
   ]
  },
  {
   "cell_type": "markdown",
   "id": "52da6fc2",
   "metadata": {},
   "source": [
    "# Product popularity based recommendation system targeted at new customers"
   ]
  },
  {
   "cell_type": "markdown",
   "id": "c3016f09",
   "metadata": {},
   "source": [
    "# Importing libraries"
   ]
  },
  {
   "cell_type": "code",
   "execution_count": 1,
   "id": "4ba07cc5",
   "metadata": {},
   "outputs": [],
   "source": [
    "import numpy as np\n",
    "import pandas as pd\n",
    "import matplotlib.pyplot as plt\n",
    "plt.style.use(\"ggplot\")\n",
    "import sklearn\n",
    "from sklearn.decomposition import TruncatedSVD"
   ]
  },
  {
   "cell_type": "markdown",
   "id": "21c02f14",
   "metadata": {},
   "source": [
    "# Loading the dataset"
   ]
  },
  {
   "cell_type": "code",
   "execution_count": 2,
   "id": "2754ab3e",
   "metadata": {},
   "outputs": [],
   "source": [
    "amazon_ratings = pd.read_csv(\"C:\\\\Users\\\\dijis\\\\Downloads\\\\ratings_beauty.csv\")\n"
   ]
  },
  {
   "cell_type": "code",
   "execution_count": 3,
   "id": "fd53d23f",
   "metadata": {},
   "outputs": [
    {
     "data": {
      "text/html": [
       "<div>\n",
       "<style scoped>\n",
       "    .dataframe tbody tr th:only-of-type {\n",
       "        vertical-align: middle;\n",
       "    }\n",
       "\n",
       "    .dataframe tbody tr th {\n",
       "        vertical-align: top;\n",
       "    }\n",
       "\n",
       "    .dataframe thead th {\n",
       "        text-align: right;\n",
       "    }\n",
       "</style>\n",
       "<table border=\"1\" class=\"dataframe\">\n",
       "  <thead>\n",
       "    <tr style=\"text-align: right;\">\n",
       "      <th></th>\n",
       "      <th>UserId</th>\n",
       "      <th>ProductId</th>\n",
       "      <th>Rating</th>\n",
       "      <th>Timestamp</th>\n",
       "    </tr>\n",
       "  </thead>\n",
       "  <tbody>\n",
       "    <tr>\n",
       "      <th>0</th>\n",
       "      <td>A39HTATAQ9V7YF</td>\n",
       "      <td>205616461</td>\n",
       "      <td>5</td>\n",
       "      <td>1369699200</td>\n",
       "    </tr>\n",
       "    <tr>\n",
       "      <th>1</th>\n",
       "      <td>A3JM6GV9MNOF9X</td>\n",
       "      <td>558925278</td>\n",
       "      <td>3</td>\n",
       "      <td>1355443200</td>\n",
       "    </tr>\n",
       "    <tr>\n",
       "      <th>2</th>\n",
       "      <td>A1Z513UWSAAO0F</td>\n",
       "      <td>558925278</td>\n",
       "      <td>5</td>\n",
       "      <td>1404691200</td>\n",
       "    </tr>\n",
       "    <tr>\n",
       "      <th>3</th>\n",
       "      <td>A1WMRR494NWEWV</td>\n",
       "      <td>733001998</td>\n",
       "      <td>4</td>\n",
       "      <td>1382572800</td>\n",
       "    </tr>\n",
       "    <tr>\n",
       "      <th>4</th>\n",
       "      <td>A3IAAVS479H7M7</td>\n",
       "      <td>737104473</td>\n",
       "      <td>1</td>\n",
       "      <td>1274227200</td>\n",
       "    </tr>\n",
       "  </tbody>\n",
       "</table>\n",
       "</div>"
      ],
      "text/plain": [
       "           UserId  ProductId  Rating   Timestamp\n",
       "0  A39HTATAQ9V7YF  205616461       5  1369699200\n",
       "1  A3JM6GV9MNOF9X  558925278       3  1355443200\n",
       "2  A1Z513UWSAAO0F  558925278       5  1404691200\n",
       "3  A1WMRR494NWEWV  733001998       4  1382572800\n",
       "4  A3IAAVS479H7M7  737104473       1  1274227200"
      ]
     },
     "execution_count": 3,
     "metadata": {},
     "output_type": "execute_result"
    }
   ],
   "source": [
    "amazon_ratings = amazon_ratings.dropna()\n",
    "amazon_ratings.head()"
   ]
  },
  {
   "cell_type": "code",
   "execution_count": 4,
   "id": "a8222f8d",
   "metadata": {},
   "outputs": [
    {
     "data": {
      "text/plain": [
       "(1048575, 4)"
      ]
     },
     "execution_count": 4,
     "metadata": {},
     "output_type": "execute_result"
    }
   ],
   "source": [
    "amazon_ratings.shape"
   ]
  },
  {
   "cell_type": "markdown",
   "id": "eca6dbe6",
   "metadata": {},
   "source": [
    "# Finding the most popular products based on the count of ratings\n",
    "\n"
   ]
  },
  {
   "cell_type": "code",
   "execution_count": 5,
   "id": "211be20c",
   "metadata": {},
   "outputs": [
    {
     "data": {
      "text/html": [
       "<div>\n",
       "<style scoped>\n",
       "    .dataframe tbody tr th:only-of-type {\n",
       "        vertical-align: middle;\n",
       "    }\n",
       "\n",
       "    .dataframe tbody tr th {\n",
       "        vertical-align: top;\n",
       "    }\n",
       "\n",
       "    .dataframe thead th {\n",
       "        text-align: right;\n",
       "    }\n",
       "</style>\n",
       "<table border=\"1\" class=\"dataframe\">\n",
       "  <thead>\n",
       "    <tr style=\"text-align: right;\">\n",
       "      <th></th>\n",
       "      <th>Rating</th>\n",
       "    </tr>\n",
       "    <tr>\n",
       "      <th>ProductId</th>\n",
       "      <th></th>\n",
       "    </tr>\n",
       "  </thead>\n",
       "  <tbody>\n",
       "    <tr>\n",
       "      <th>B001MA0QY2</th>\n",
       "      <td>7533</td>\n",
       "    </tr>\n",
       "    <tr>\n",
       "      <th>B0009V1YR8</th>\n",
       "      <td>2869</td>\n",
       "    </tr>\n",
       "    <tr>\n",
       "      <th>B0000YUXI0</th>\n",
       "      <td>2143</td>\n",
       "    </tr>\n",
       "    <tr>\n",
       "      <th>B000ZMBSPE</th>\n",
       "      <td>2041</td>\n",
       "    </tr>\n",
       "    <tr>\n",
       "      <th>B003BQ6QXK</th>\n",
       "      <td>1918</td>\n",
       "    </tr>\n",
       "    <tr>\n",
       "      <th>B00121UVU0</th>\n",
       "      <td>1838</td>\n",
       "    </tr>\n",
       "    <tr>\n",
       "      <th>B000FS05VG</th>\n",
       "      <td>1589</td>\n",
       "    </tr>\n",
       "    <tr>\n",
       "      <th>B000142FVW</th>\n",
       "      <td>1558</td>\n",
       "    </tr>\n",
       "    <tr>\n",
       "      <th>B001JKTTVQ</th>\n",
       "      <td>1468</td>\n",
       "    </tr>\n",
       "    <tr>\n",
       "      <th>B000TKH6G2</th>\n",
       "      <td>1379</td>\n",
       "    </tr>\n",
       "  </tbody>\n",
       "</table>\n",
       "</div>"
      ],
      "text/plain": [
       "            Rating\n",
       "ProductId         \n",
       "B001MA0QY2    7533\n",
       "B0009V1YR8    2869\n",
       "B0000YUXI0    2143\n",
       "B000ZMBSPE    2041\n",
       "B003BQ6QXK    1918\n",
       "B00121UVU0    1838\n",
       "B000FS05VG    1589\n",
       "B000142FVW    1558\n",
       "B001JKTTVQ    1468\n",
       "B000TKH6G2    1379"
      ]
     },
     "execution_count": 5,
     "metadata": {},
     "output_type": "execute_result"
    }
   ],
   "source": [
    "popular_products = pd.DataFrame(amazon_ratings.groupby('ProductId')['Rating'].count())\n",
    "most_popular = popular_products.sort_values('Rating', ascending=False)\n",
    "most_popular.head(10)"
   ]
  },
  {
   "cell_type": "markdown",
   "id": "9156bb0b",
   "metadata": {},
   "source": [
    "# Plotting bar chart of the 30 most popular products\n",
    "\n"
   ]
  },
  {
   "cell_type": "code",
   "execution_count": 6,
   "id": "a0f2b13d",
   "metadata": {},
   "outputs": [
    {
     "data": {
      "image/png": "[encoded data removed]",
      "text/plain": [
       "<Figure size 1000x600 with 1 Axes>"
      ]
     },
     "metadata": {},
     "output_type": "display_data"
    }
   ],
   "source": [
    "most_popular.head(30).plot(kind=\"bar\", y=\"Rating\", figsize=(10, 6), xlabel=\"Product ID\",ylabel=\"Number of Ratings\",title=\"30 most popular products by number of ratings\")\n",
    "plt.xticks(rotation=90)\n",
    "plt.show()"
   ]
  },
  {
   "cell_type": "markdown",
   "id": "05200bde",
   "metadata": {},
   "source": [
    "# Analysis"
   ]
  },
  {
   "cell_type": "markdown",
   "id": "985456d5",
   "metadata": {},
   "source": [
    "The bar chart displays the 30 most popular products based on the count of ratings. For\n",
    "example, ProductId \"B001MA0QY2\" has received over 7000 ratings, indicating high user\n",
    "engagement with this product. Similarly, the next most popular product, with ProductId\n",
    "\"B0009V1YR8\", has received approximately 3000 ratings. While the count of ratings reflects\n",
    "user interactions and interest in these products, it does not directly represent the count of\n",
    "actual sales transactions.\n"
   ]
  },
  {
   "cell_type": "markdown",
   "id": "f277a2b3",
   "metadata": {},
   "source": [
    "# Recommendation System - Part 2\n"
   ]
  },
  {
   "cell_type": "markdown",
   "id": "2ef0e699",
   "metadata": {},
   "source": [
    "# Model-based collaborative filtering system "
   ]
  },
  {
   "cell_type": "code",
   "execution_count": 7,
   "id": "3b654a53",
   "metadata": {},
   "outputs": [],
   "source": [
    "##Subset of Amazon Ratings\n",
    "amazon_ratings1 = amazon_ratings.head(10000)"
   ]
  },
  {
   "cell_type": "markdown",
   "id": "85eff3e8",
   "metadata": {},
   "source": [
    "# Utility matrix"
   ]
  },
  {
   "cell_type": "code",
   "execution_count": 8,
   "id": "0a2efc3d",
   "metadata": {},
   "outputs": [
    {
     "data": {
      "text/html": [
       "<div>\n",
       "<style scoped>\n",
       "    .dataframe tbody tr th:only-of-type {\n",
       "        vertical-align: middle;\n",
       "    }\n",
       "\n",
       "    .dataframe tbody tr th {\n",
       "        vertical-align: top;\n",
       "    }\n",
       "\n",
       "    .dataframe thead th {\n",
       "        text-align: right;\n",
       "    }\n",
       "</style>\n",
       "<table border=\"1\" class=\"dataframe\">\n",
       "  <thead>\n",
       "    <tr style=\"text-align: right;\">\n",
       "      <th>ProductId</th>\n",
       "      <th>1304139212</th>\n",
       "      <th>1304139220</th>\n",
       "      <th>130414089X</th>\n",
       "      <th>130414643X</th>\n",
       "      <th>1304146537</th>\n",
       "      <th>130414674X</th>\n",
       "      <th>1304168522</th>\n",
       "      <th>1304174778</th>\n",
       "      <th>1304174867</th>\n",
       "      <th>1304174905</th>\n",
       "      <th>...</th>\n",
       "      <th>B000052YPE</th>\n",
       "      <th>B000052YPF</th>\n",
       "      <th>B000052YPG</th>\n",
       "      <th>B000052YPH</th>\n",
       "      <th>B000052YPM</th>\n",
       "      <th>B000052YPU</th>\n",
       "      <th>B000052YPV</th>\n",
       "      <th>B000052YPY</th>\n",
       "      <th>B000052YQ0</th>\n",
       "      <th>B000052YQ2</th>\n",
       "    </tr>\n",
       "    <tr>\n",
       "      <th>UserId</th>\n",
       "      <th></th>\n",
       "      <th></th>\n",
       "      <th></th>\n",
       "      <th></th>\n",
       "      <th></th>\n",
       "      <th></th>\n",
       "      <th></th>\n",
       "      <th></th>\n",
       "      <th></th>\n",
       "      <th></th>\n",
       "      <th></th>\n",
       "      <th></th>\n",
       "      <th></th>\n",
       "      <th></th>\n",
       "      <th></th>\n",
       "      <th></th>\n",
       "      <th></th>\n",
       "      <th></th>\n",
       "      <th></th>\n",
       "      <th></th>\n",
       "      <th></th>\n",
       "    </tr>\n",
       "  </thead>\n",
       "  <tbody>\n",
       "    <tr>\n",
       "      <th>A00205921JHJK5X9LNP42</th>\n",
       "      <td>0</td>\n",
       "      <td>0</td>\n",
       "      <td>0</td>\n",
       "      <td>0</td>\n",
       "      <td>0</td>\n",
       "      <td>0</td>\n",
       "      <td>0</td>\n",
       "      <td>0</td>\n",
       "      <td>0</td>\n",
       "      <td>0</td>\n",
       "      <td>...</td>\n",
       "      <td>0</td>\n",
       "      <td>0</td>\n",
       "      <td>0</td>\n",
       "      <td>0</td>\n",
       "      <td>0</td>\n",
       "      <td>0</td>\n",
       "      <td>0</td>\n",
       "      <td>0</td>\n",
       "      <td>0</td>\n",
       "      <td>0</td>\n",
       "    </tr>\n",
       "    <tr>\n",
       "      <th>A024581134CV80ZBLIZTZ</th>\n",
       "      <td>0</td>\n",
       "      <td>0</td>\n",
       "      <td>0</td>\n",
       "      <td>0</td>\n",
       "      <td>0</td>\n",
       "      <td>0</td>\n",
       "      <td>0</td>\n",
       "      <td>0</td>\n",
       "      <td>0</td>\n",
       "      <td>0</td>\n",
       "      <td>...</td>\n",
       "      <td>0</td>\n",
       "      <td>0</td>\n",
       "      <td>0</td>\n",
       "      <td>0</td>\n",
       "      <td>0</td>\n",
       "      <td>0</td>\n",
       "      <td>0</td>\n",
       "      <td>0</td>\n",
       "      <td>0</td>\n",
       "      <td>0</td>\n",
       "    </tr>\n",
       "    <tr>\n",
       "      <th>A03056581JJIOL5FSKJY7</th>\n",
       "      <td>0</td>\n",
       "      <td>0</td>\n",
       "      <td>0</td>\n",
       "      <td>0</td>\n",
       "      <td>0</td>\n",
       "      <td>0</td>\n",
       "      <td>0</td>\n",
       "      <td>0</td>\n",
       "      <td>0</td>\n",
       "      <td>0</td>\n",
       "      <td>...</td>\n",
       "      <td>0</td>\n",
       "      <td>0</td>\n",
       "      <td>0</td>\n",
       "      <td>0</td>\n",
       "      <td>0</td>\n",
       "      <td>0</td>\n",
       "      <td>0</td>\n",
       "      <td>0</td>\n",
       "      <td>0</td>\n",
       "      <td>0</td>\n",
       "    </tr>\n",
       "    <tr>\n",
       "      <th>A03099101ZRK4K607JVHH</th>\n",
       "      <td>0</td>\n",
       "      <td>0</td>\n",
       "      <td>0</td>\n",
       "      <td>0</td>\n",
       "      <td>0</td>\n",
       "      <td>0</td>\n",
       "      <td>0</td>\n",
       "      <td>0</td>\n",
       "      <td>0</td>\n",
       "      <td>0</td>\n",
       "      <td>...</td>\n",
       "      <td>0</td>\n",
       "      <td>0</td>\n",
       "      <td>0</td>\n",
       "      <td>0</td>\n",
       "      <td>0</td>\n",
       "      <td>0</td>\n",
       "      <td>0</td>\n",
       "      <td>0</td>\n",
       "      <td>0</td>\n",
       "      <td>0</td>\n",
       "    </tr>\n",
       "    <tr>\n",
       "      <th>A0505229A7NSH3FRXRR4</th>\n",
       "      <td>0</td>\n",
       "      <td>0</td>\n",
       "      <td>0</td>\n",
       "      <td>0</td>\n",
       "      <td>0</td>\n",
       "      <td>0</td>\n",
       "      <td>0</td>\n",
       "      <td>0</td>\n",
       "      <td>0</td>\n",
       "      <td>0</td>\n",
       "      <td>...</td>\n",
       "      <td>0</td>\n",
       "      <td>0</td>\n",
       "      <td>0</td>\n",
       "      <td>0</td>\n",
       "      <td>0</td>\n",
       "      <td>0</td>\n",
       "      <td>0</td>\n",
       "      <td>0</td>\n",
       "      <td>0</td>\n",
       "      <td>0</td>\n",
       "    </tr>\n",
       "  </tbody>\n",
       "</table>\n",
       "<p>5 rows × 886 columns</p>\n",
       "</div>"
      ],
      "text/plain": [
       "ProductId              1304139212  1304139220  130414089X  130414643X  \\\n",
       "UserId                                                                  \n",
       "A00205921JHJK5X9LNP42           0           0           0           0   \n",
       "A024581134CV80ZBLIZTZ           0           0           0           0   \n",
       "A03056581JJIOL5FSKJY7           0           0           0           0   \n",
       "A03099101ZRK4K607JVHH           0           0           0           0   \n",
       "A0505229A7NSH3FRXRR4            0           0           0           0   \n",
       "\n",
       "ProductId              1304146537  130414674X  1304168522  1304174778  \\\n",
       "UserId                                                                  \n",
       "A00205921JHJK5X9LNP42           0           0           0           0   \n",
       "A024581134CV80ZBLIZTZ           0           0           0           0   \n",
       "A03056581JJIOL5FSKJY7           0           0           0           0   \n",
       "A03099101ZRK4K607JVHH           0           0           0           0   \n",
       "A0505229A7NSH3FRXRR4            0           0           0           0   \n",
       "\n",
       "ProductId              1304174867  1304174905  ...  B000052YPE  B000052YPF  \\\n",
       "UserId                                         ...                           \n",
       "A00205921JHJK5X9LNP42           0           0  ...           0           0   \n",
       "A024581134CV80ZBLIZTZ           0           0  ...           0           0   \n",
       "A03056581JJIOL5FSKJY7           0           0  ...           0           0   \n",
       "A03099101ZRK4K607JVHH           0           0  ...           0           0   \n",
       "A0505229A7NSH3FRXRR4            0           0  ...           0           0   \n",
       "\n",
       "ProductId              B000052YPG  B000052YPH  B000052YPM  B000052YPU  \\\n",
       "UserId                                                                  \n",
       "A00205921JHJK5X9LNP42           0           0           0           0   \n",
       "A024581134CV80ZBLIZTZ           0           0           0           0   \n",
       "A03056581JJIOL5FSKJY7           0           0           0           0   \n",
       "A03099101ZRK4K607JVHH           0           0           0           0   \n",
       "A0505229A7NSH3FRXRR4            0           0           0           0   \n",
       "\n",
       "ProductId              B000052YPV  B000052YPY  B000052YQ0  B000052YQ2  \n",
       "UserId                                                                 \n",
       "A00205921JHJK5X9LNP42           0           0           0           0  \n",
       "A024581134CV80ZBLIZTZ           0           0           0           0  \n",
       "A03056581JJIOL5FSKJY7           0           0           0           0  \n",
       "A03099101ZRK4K607JVHH           0           0           0           0  \n",
       "A0505229A7NSH3FRXRR4            0           0           0           0  \n",
       "\n",
       "[5 rows x 886 columns]"
      ]
     },
     "execution_count": 8,
     "metadata": {},
     "output_type": "execute_result"
    }
   ],
   "source": [
    "ratings_utility_matrix = amazon_ratings1.pivot_table(values='Rating', index='UserId', columns='ProductId', fill_value=0)\n",
    "ratings_utility_matrix.head()"
   ]
  },
  {
   "cell_type": "code",
   "execution_count": 9,
   "id": "7a55e159",
   "metadata": {},
   "outputs": [
    {
     "data": {
      "text/plain": [
       "(9697, 886)"
      ]
     },
     "execution_count": 9,
     "metadata": {},
     "output_type": "execute_result"
    }
   ],
   "source": [
    "ratings_utility_matrix.shape"
   ]
  },
  {
   "cell_type": "code",
   "execution_count": 10,
   "id": "a98097f6",
   "metadata": {},
   "outputs": [
    {
     "data": {
      "text/html": [
       "<div>\n",
       "<style scoped>\n",
       "    .dataframe tbody tr th:only-of-type {\n",
       "        vertical-align: middle;\n",
       "    }\n",
       "\n",
       "    .dataframe tbody tr th {\n",
       "        vertical-align: top;\n",
       "    }\n",
       "\n",
       "    .dataframe thead th {\n",
       "        text-align: right;\n",
       "    }\n",
       "</style>\n",
       "<table border=\"1\" class=\"dataframe\">\n",
       "  <thead>\n",
       "    <tr style=\"text-align: right;\">\n",
       "      <th>UserId</th>\n",
       "      <th>A00205921JHJK5X9LNP42</th>\n",
       "      <th>A024581134CV80ZBLIZTZ</th>\n",
       "      <th>A03056581JJIOL5FSKJY7</th>\n",
       "      <th>A03099101ZRK4K607JVHH</th>\n",
       "      <th>A0505229A7NSH3FRXRR4</th>\n",
       "      <th>A05492663T95KW63BR75K</th>\n",
       "      <th>A059547920Q3LZVFHLPI3</th>\n",
       "      <th>A07410232KYRFR25CIUGJ</th>\n",
       "      <th>A082796624UNM47DSAI6K</th>\n",
       "      <th>A0864963DOAY7LXGS5I6</th>\n",
       "      <th>...</th>\n",
       "      <th>AZW1HXXYAC15B</th>\n",
       "      <th>AZWRTJPN7NXT</th>\n",
       "      <th>AZWTXHXZXFAYP</th>\n",
       "      <th>AZYQEFB9Y5N22</th>\n",
       "      <th>AZZHB6U54UDYW</th>\n",
       "      <th>AZZHJZP4GQPPZ</th>\n",
       "      <th>AZZNK89PXD006</th>\n",
       "      <th>AZZOFVMQC0BJG</th>\n",
       "      <th>AZZQXL8VDCFTV</th>\n",
       "      <th>AZZTJQ7CQZUD8</th>\n",
       "    </tr>\n",
       "    <tr>\n",
       "      <th>ProductId</th>\n",
       "      <th></th>\n",
       "      <th></th>\n",
       "      <th></th>\n",
       "      <th></th>\n",
       "      <th></th>\n",
       "      <th></th>\n",
       "      <th></th>\n",
       "      <th></th>\n",
       "      <th></th>\n",
       "      <th></th>\n",
       "      <th></th>\n",
       "      <th></th>\n",
       "      <th></th>\n",
       "      <th></th>\n",
       "      <th></th>\n",
       "      <th></th>\n",
       "      <th></th>\n",
       "      <th></th>\n",
       "      <th></th>\n",
       "      <th></th>\n",
       "      <th></th>\n",
       "    </tr>\n",
       "  </thead>\n",
       "  <tbody>\n",
       "    <tr>\n",
       "      <th>1304139212</th>\n",
       "      <td>0</td>\n",
       "      <td>0</td>\n",
       "      <td>0</td>\n",
       "      <td>0</td>\n",
       "      <td>0</td>\n",
       "      <td>0</td>\n",
       "      <td>0</td>\n",
       "      <td>0</td>\n",
       "      <td>0</td>\n",
       "      <td>0</td>\n",
       "      <td>...</td>\n",
       "      <td>0</td>\n",
       "      <td>0</td>\n",
       "      <td>0</td>\n",
       "      <td>0</td>\n",
       "      <td>0</td>\n",
       "      <td>0</td>\n",
       "      <td>0</td>\n",
       "      <td>0</td>\n",
       "      <td>0</td>\n",
       "      <td>0</td>\n",
       "    </tr>\n",
       "    <tr>\n",
       "      <th>1304139220</th>\n",
       "      <td>0</td>\n",
       "      <td>0</td>\n",
       "      <td>0</td>\n",
       "      <td>0</td>\n",
       "      <td>0</td>\n",
       "      <td>0</td>\n",
       "      <td>0</td>\n",
       "      <td>0</td>\n",
       "      <td>0</td>\n",
       "      <td>0</td>\n",
       "      <td>...</td>\n",
       "      <td>0</td>\n",
       "      <td>0</td>\n",
       "      <td>0</td>\n",
       "      <td>0</td>\n",
       "      <td>0</td>\n",
       "      <td>0</td>\n",
       "      <td>0</td>\n",
       "      <td>0</td>\n",
       "      <td>0</td>\n",
       "      <td>0</td>\n",
       "    </tr>\n",
       "    <tr>\n",
       "      <th>130414089X</th>\n",
       "      <td>0</td>\n",
       "      <td>0</td>\n",
       "      <td>0</td>\n",
       "      <td>0</td>\n",
       "      <td>0</td>\n",
       "      <td>0</td>\n",
       "      <td>0</td>\n",
       "      <td>0</td>\n",
       "      <td>0</td>\n",
       "      <td>0</td>\n",
       "      <td>...</td>\n",
       "      <td>0</td>\n",
       "      <td>0</td>\n",
       "      <td>0</td>\n",
       "      <td>0</td>\n",
       "      <td>0</td>\n",
       "      <td>0</td>\n",
       "      <td>0</td>\n",
       "      <td>0</td>\n",
       "      <td>0</td>\n",
       "      <td>0</td>\n",
       "    </tr>\n",
       "    <tr>\n",
       "      <th>130414643X</th>\n",
       "      <td>0</td>\n",
       "      <td>0</td>\n",
       "      <td>0</td>\n",
       "      <td>0</td>\n",
       "      <td>0</td>\n",
       "      <td>0</td>\n",
       "      <td>0</td>\n",
       "      <td>0</td>\n",
       "      <td>0</td>\n",
       "      <td>0</td>\n",
       "      <td>...</td>\n",
       "      <td>0</td>\n",
       "      <td>0</td>\n",
       "      <td>0</td>\n",
       "      <td>0</td>\n",
       "      <td>0</td>\n",
       "      <td>0</td>\n",
       "      <td>0</td>\n",
       "      <td>0</td>\n",
       "      <td>0</td>\n",
       "      <td>0</td>\n",
       "    </tr>\n",
       "    <tr>\n",
       "      <th>1304146537</th>\n",
       "      <td>0</td>\n",
       "      <td>0</td>\n",
       "      <td>0</td>\n",
       "      <td>0</td>\n",
       "      <td>0</td>\n",
       "      <td>0</td>\n",
       "      <td>0</td>\n",
       "      <td>0</td>\n",
       "      <td>0</td>\n",
       "      <td>0</td>\n",
       "      <td>...</td>\n",
       "      <td>0</td>\n",
       "      <td>0</td>\n",
       "      <td>0</td>\n",
       "      <td>0</td>\n",
       "      <td>0</td>\n",
       "      <td>0</td>\n",
       "      <td>0</td>\n",
       "      <td>0</td>\n",
       "      <td>0</td>\n",
       "      <td>0</td>\n",
       "    </tr>\n",
       "  </tbody>\n",
       "</table>\n",
       "<p>5 rows × 9697 columns</p>\n",
       "</div>"
      ],
      "text/plain": [
       "UserId      A00205921JHJK5X9LNP42  A024581134CV80ZBLIZTZ  \\\n",
       "ProductId                                                  \n",
       "1304139212                      0                      0   \n",
       "1304139220                      0                      0   \n",
       "130414089X                      0                      0   \n",
       "130414643X                      0                      0   \n",
       "1304146537                      0                      0   \n",
       "\n",
       "UserId      A03056581JJIOL5FSKJY7  A03099101ZRK4K607JVHH  \\\n",
       "ProductId                                                  \n",
       "1304139212                      0                      0   \n",
       "1304139220                      0                      0   \n",
       "130414089X                      0                      0   \n",
       "130414643X                      0                      0   \n",
       "1304146537                      0                      0   \n",
       "\n",
       "UserId      A0505229A7NSH3FRXRR4  A05492663T95KW63BR75K  \\\n",
       "ProductId                                                 \n",
       "1304139212                     0                      0   \n",
       "1304139220                     0                      0   \n",
       "130414089X                     0                      0   \n",
       "130414643X                     0                      0   \n",
       "1304146537                     0                      0   \n",
       "\n",
       "UserId      A059547920Q3LZVFHLPI3  A07410232KYRFR25CIUGJ  \\\n",
       "ProductId                                                  \n",
       "1304139212                      0                      0   \n",
       "1304139220                      0                      0   \n",
       "130414089X                      0                      0   \n",
       "130414643X                      0                      0   \n",
       "1304146537                      0                      0   \n",
       "\n",
       "UserId      A082796624UNM47DSAI6K  A0864963DOAY7LXGS5I6  ...  AZW1HXXYAC15B  \\\n",
       "ProductId                                                ...                  \n",
       "1304139212                      0                     0  ...              0   \n",
       "1304139220                      0                     0  ...              0   \n",
       "130414089X                      0                     0  ...              0   \n",
       "130414643X                      0                     0  ...              0   \n",
       "1304146537                      0                     0  ...              0   \n",
       "\n",
       "UserId      AZWRTJPN7NXT  AZWTXHXZXFAYP  AZYQEFB9Y5N22  AZZHB6U54UDYW  \\\n",
       "ProductId                                                               \n",
       "1304139212             0              0              0              0   \n",
       "1304139220             0              0              0              0   \n",
       "130414089X             0              0              0              0   \n",
       "130414643X             0              0              0              0   \n",
       "1304146537             0              0              0              0   \n",
       "\n",
       "UserId      AZZHJZP4GQPPZ  AZZNK89PXD006  AZZOFVMQC0BJG  AZZQXL8VDCFTV  \\\n",
       "ProductId                                                                \n",
       "1304139212              0              0              0              0   \n",
       "1304139220              0              0              0              0   \n",
       "130414089X              0              0              0              0   \n",
       "130414643X              0              0              0              0   \n",
       "1304146537              0              0              0              0   \n",
       "\n",
       "UserId      AZZTJQ7CQZUD8  \n",
       "ProductId                  \n",
       "1304139212              0  \n",
       "1304139220              0  \n",
       "130414089X              0  \n",
       "130414643X              0  \n",
       "1304146537              0  \n",
       "\n",
       "[5 rows x 9697 columns]"
      ]
     },
     "execution_count": 10,
     "metadata": {},
     "output_type": "execute_result"
    }
   ],
   "source": [
    "#Transposing the matrix\n",
    "X = ratings_utility_matrix.T\n",
    "X.head()"
   ]
  },
  {
   "cell_type": "code",
   "execution_count": 11,
   "id": "981b5073",
   "metadata": {},
   "outputs": [
    {
     "data": {
      "text/plain": [
       "(886, 9697)"
      ]
     },
     "execution_count": 11,
     "metadata": {},
     "output_type": "execute_result"
    }
   ],
   "source": [
    "X.shape"
   ]
  },
  {
   "cell_type": "code",
   "execution_count": 12,
   "id": "db2dbc5e",
   "metadata": {},
   "outputs": [
    {
     "name": "stdout",
     "output_type": "stream",
     "text": [
      "886\n"
     ]
    }
   ],
   "source": [
    "#Unique products in subset of data\n",
    "X1 = X\n",
    "print(len(X1))\n"
   ]
  },
  {
   "cell_type": "markdown",
   "id": "cf7785dc",
   "metadata": {},
   "source": [
    "# Decomposing the Matrix\n"
   ]
  },
  {
   "cell_type": "code",
   "execution_count": 13,
   "id": "14781c13",
   "metadata": {},
   "outputs": [
    {
     "data": {
      "text/plain": [
       "(886, 10)"
      ]
     },
     "execution_count": 13,
     "metadata": {},
     "output_type": "execute_result"
    }
   ],
   "source": [
    "#decomposing the matrix\n",
    "SVD = TruncatedSVD(n_components=10)\n",
    "decomposed_matrix = SVD.fit_transform(X)\n",
    "decomposed_matrix.shape"
   ]
  },
  {
   "cell_type": "markdown",
   "id": "4659928a",
   "metadata": {},
   "source": [
    "# correlation matrix"
   ]
  },
  {
   "cell_type": "code",
   "execution_count": 14,
   "id": "623631ed",
   "metadata": {},
   "outputs": [
    {
     "data": {
      "text/plain": [
       "(886, 886)"
      ]
     },
     "execution_count": 14,
     "metadata": {},
     "output_type": "execute_result"
    }
   ],
   "source": [
    "\n",
    "correlation_matrix = np.corrcoef(decomposed_matrix)\n",
    "correlation_matrix.shape"
   ]
  },
  {
   "cell_type": "markdown",
   "id": "1d535975",
   "metadata": {},
   "source": [
    "# Isolating ProductID 6162071103 from the Correlation Matrix\n",
    "\n"
   ]
  },
  {
   "cell_type": "code",
   "execution_count": 15,
   "id": "11c9be4e",
   "metadata": {},
   "outputs": [],
   "source": [
    "#Assuming the customer buys ProductId 6117036094 (randomly chosen)"
   ]
  },
  {
   "cell_type": "code",
   "execution_count": 16,
   "id": "22d67b20",
   "metadata": {},
   "outputs": [
    {
     "data": {
      "text/plain": [
       "'6162071103'"
      ]
     },
     "execution_count": 16,
     "metadata": {},
     "output_type": "execute_result"
    }
   ],
   "source": [
    "X.index[99]"
   ]
  },
  {
   "cell_type": "code",
   "execution_count": 17,
   "id": "4d391fe8",
   "metadata": {},
   "outputs": [
    {
     "data": {
      "text/plain": [
       "99"
      ]
     },
     "execution_count": 17,
     "metadata": {},
     "output_type": "execute_result"
    }
   ],
   "source": [
    "#Index of ProductId purchased by customer\n",
    "i='6162071103'\n",
    "product_names = list(X.index)\n",
    "product_ID = product_names.index(i)\n",
    "product_ID"
   ]
  },
  {
   "cell_type": "code",
   "execution_count": null,
   "id": "8ef66532",
   "metadata": {},
   "outputs": [],
   "source": []
  },
  {
   "cell_type": "markdown",
   "id": "78cd3cb9",
   "metadata": {},
   "source": [
    "Correlation for all items with the item purchased by this customer based on items rated by other customers\n",
    "people who bought the same product\n"
   ]
  },
  {
   "cell_type": "code",
   "execution_count": 18,
   "id": "851125b3",
   "metadata": {},
   "outputs": [
    {
     "data": {
      "text/plain": [
       "(886,)"
      ]
     },
     "execution_count": 18,
     "metadata": {},
     "output_type": "execute_result"
    }
   ],
   "source": [
    "correlation_product_ID = correlation_matrix[product_ID]\n",
    "correlation_product_ID.shape"
   ]
  },
  {
   "cell_type": "markdown",
   "id": "3630e3f2",
   "metadata": {},
   "source": [
    "# Recommending top  highly correlated products in sequence\n",
    "\n"
   ]
  },
  {
   "cell_type": "code",
   "execution_count": 19,
   "id": "d65270fa",
   "metadata": {},
   "outputs": [
    {
     "data": {
      "text/plain": [
       "['979078371X', '9790797567', '9790801637']"
      ]
     },
     "execution_count": 19,
     "metadata": {},
     "output_type": "execute_result"
    }
   ],
   "source": [
    "Recommend = list(X.index[correlation_product_ID > 0.90])\n",
    "\n",
    "# Removes the item already bought by the customer\n",
    "Recommend.remove(i) \n",
    "\n",
    "Recommend[0:9]"
   ]
  },
  {
   "cell_type": "code",
   "execution_count": null,
   "id": "8d5cd864",
   "metadata": {},
   "outputs": [],
   "source": []
  },
  {
   "cell_type": "markdown",
   "id": "3dda8e57",
   "metadata": {},
   "source": [
    "\n",
    "# Recommendation System Part-3"
   ]
  },
  {
   "cell_type": "markdown",
   "id": "f5585e0e",
   "metadata": {},
   "source": [
    "For a business without any user-item purchase history, a search engine based\n",
    "recommendation system can be designed for users. The product recommendations can be\n",
    "based on textual clustering analysis given in product description"
   ]
  },
  {
   "cell_type": "markdown",
   "id": "2014db2d",
   "metadata": {},
   "source": [
    "# Importing Libraries"
   ]
  },
  {
   "cell_type": "code",
   "execution_count": 20,
   "id": "26391eb4",
   "metadata": {},
   "outputs": [],
   "source": [
    "import re\n",
    "from nltk.corpus import stopwords\n",
    "from gensim.models import Word2Vec\n",
    "from sklearn.cluster import KMeans"
   ]
  },
  {
   "cell_type": "markdown",
   "id": "29fa86aa",
   "metadata": {},
   "source": [
    "# Item to item based recommendation system based on product description\n",
    "\n"
   ]
  },
  {
   "cell_type": "markdown",
   "id": "02bd3453",
   "metadata": {},
   "source": [
    "Applicable when business is setting up its E-commerce website for the first time"
   ]
  },
  {
   "cell_type": "code",
   "execution_count": 21,
   "id": "e4a85e7b",
   "metadata": {},
   "outputs": [],
   "source": [
    "product_descriptions=pd.read_csv(\"C:\\\\Users\\\\dijis\\\\Desktop\\\\New folder\\product_descriptions.csv\")"
   ]
  },
  {
   "cell_type": "code",
   "execution_count": 22,
   "id": "412f65f7",
   "metadata": {},
   "outputs": [
    {
     "data": {
      "text/plain": [
       "(124428, 2)"
      ]
     },
     "execution_count": 22,
     "metadata": {},
     "output_type": "execute_result"
    }
   ],
   "source": [
    "product_descriptions.shape"
   ]
  },
  {
   "cell_type": "code",
   "execution_count": 23,
   "id": "8b14bf53",
   "metadata": {},
   "outputs": [
    {
     "data": {
      "text/html": [
       "<div>\n",
       "<style scoped>\n",
       "    .dataframe tbody tr th:only-of-type {\n",
       "        vertical-align: middle;\n",
       "    }\n",
       "\n",
       "    .dataframe tbody tr th {\n",
       "        vertical-align: top;\n",
       "    }\n",
       "\n",
       "    .dataframe thead th {\n",
       "        text-align: right;\n",
       "    }\n",
       "</style>\n",
       "<table border=\"1\" class=\"dataframe\">\n",
       "  <thead>\n",
       "    <tr style=\"text-align: right;\">\n",
       "      <th></th>\n",
       "      <th>product_uid</th>\n",
       "      <th>product_description</th>\n",
       "    </tr>\n",
       "  </thead>\n",
       "  <tbody>\n",
       "    <tr>\n",
       "      <th>0</th>\n",
       "      <td>100001</td>\n",
       "      <td>Not only do angles make joints stronger, they ...</td>\n",
       "    </tr>\n",
       "    <tr>\n",
       "      <th>1</th>\n",
       "      <td>100002</td>\n",
       "      <td>BEHR Premium Textured DECKOVER is an innovativ...</td>\n",
       "    </tr>\n",
       "    <tr>\n",
       "      <th>2</th>\n",
       "      <td>100003</td>\n",
       "      <td>Classic architecture meets contemporary design...</td>\n",
       "    </tr>\n",
       "    <tr>\n",
       "      <th>3</th>\n",
       "      <td>100004</td>\n",
       "      <td>The Grape Solar 265-Watt Polycrystalline PV So...</td>\n",
       "    </tr>\n",
       "    <tr>\n",
       "      <th>4</th>\n",
       "      <td>100005</td>\n",
       "      <td>Update your bathroom with the Delta Vero Singl...</td>\n",
       "    </tr>\n",
       "  </tbody>\n",
       "</table>\n",
       "</div>"
      ],
      "text/plain": [
       "   product_uid                                product_description\n",
       "0       100001  Not only do angles make joints stronger, they ...\n",
       "1       100002  BEHR Premium Textured DECKOVER is an innovativ...\n",
       "2       100003  Classic architecture meets contemporary design...\n",
       "3       100004  The Grape Solar 265-Watt Polycrystalline PV So...\n",
       "4       100005  Update your bathroom with the Delta Vero Singl..."
      ]
     },
     "execution_count": 23,
     "metadata": {},
     "output_type": "execute_result"
    }
   ],
   "source": [
    "product_descriptions.head()"
   ]
  },
  {
   "cell_type": "markdown",
   "id": "3c8219e2",
   "metadata": {},
   "source": [
    "# Checking for missing values"
   ]
  },
  {
   "cell_type": "code",
   "execution_count": 24,
   "id": "ba21ff63",
   "metadata": {},
   "outputs": [
    {
     "data": {
      "text/plain": [
       "(124428, 2)"
      ]
     },
     "execution_count": 24,
     "metadata": {},
     "output_type": "execute_result"
    }
   ],
   "source": [
    "#Missing values\n",
    "product_descriptions=product_descriptions.dropna()\n",
    "product_descriptions.shape"
   ]
  },
  {
   "cell_type": "markdown",
   "id": "c8c5167f",
   "metadata": {},
   "source": [
    "# Preprocess the Product Descriptions"
   ]
  },
  {
   "cell_type": "code",
   "execution_count": 25,
   "id": "3a3fc3fb",
   "metadata": {},
   "outputs": [
    {
     "name": "stdout",
     "output_type": "stream",
     "text": [
      "0    [angles, make, joints, stronger, also, provide...\n",
      "1    [behr, premium, textured, deckover, innovative...\n",
      "2    [classic, architecture, meets, contemporary, d...\n",
      "3    [grape, solar, watt, polycrystalline, pv, sola...\n",
      "4    [update, bathroom, delta, vero, singlehandle, ...\n",
      "Name: cleaned_description, dtype: object\n"
     ]
    }
   ],
   "source": [
    "import pandas as pd\n",
    "import re\n",
    "from nltk.corpus import stopwords\n",
    "\n",
    "# Load product descriptions data\n",
    "product_descriptions = pd.read_csv(\"C:\\\\Users\\\\dijis\\\\Desktop\\\\New folder\\product_descriptions.csv\")\n",
    "\n",
    "# Drop missing values\n",
    "product_descriptions = product_descriptions.dropna()\n",
    "\n",
    "# Define stop words\n",
    "stop_words = set(stopwords.words('english'))\n",
    "\n",
    "# Tokenize and clean product descriptions\n",
    "def preprocess_text(text):\n",
    "    # Remove punctuation and digits\n",
    "    text = re.sub(r'[^a-zA-Z\\s]', '', text, re.I | re.A)\n",
    "    # Tokenize\n",
    "    tokens = text.lower().split()\n",
    "    # Remove stop words\n",
    "    tokens = [token for token in tokens if token not in stop_words]\n",
    "    return tokens\n",
    "\n",
    "product_descriptions['cleaned_description'] = product_descriptions['product_description'].apply(preprocess_text)\n",
    "\n",
    "# Preview cleaned descriptions\n",
    "print(product_descriptions['cleaned_description'].head())"
   ]
  },
  {
   "cell_type": "markdown",
   "id": "090e02a3",
   "metadata": {},
   "source": [
    "# Train a Word2Vec Model\n"
   ]
  },
  {
   "cell_type": "code",
   "execution_count": 26,
   "id": "85a23586",
   "metadata": {},
   "outputs": [],
   "source": [
    "from gensim.models import Word2Vec\n",
    "\n",
    "# Train Word2Vec model\n",
    "word2vec_model = Word2Vec(sentences=product_descriptions['cleaned_description'], vector_size=100, window=5, min_count=1, workers=4)\n",
    "\n",
    "# Save the model (optional)\n",
    "word2vec_model.save(\"word2vec_model.model\")"
   ]
  },
  {
   "cell_type": "markdown",
   "id": "55c1757b",
   "metadata": {},
   "source": [
    "# Cluster the Product Descriptions Using KMeans with Word2Vec Embeddings\n"
   ]
  },
  {
   "cell_type": "code",
   "execution_count": 27,
   "id": "dbc1b68f",
   "metadata": {},
   "outputs": [
    {
     "name": "stderr",
     "output_type": "stream",
     "text": [
      "C:\\Users\\dijis\\anaconda3\\anaconda\\Lib\\site-packages\\sklearn\\cluster\\_kmeans.py:1412: FutureWarning: The default value of `n_init` will change from 10 to 'auto' in 1.4. Set the value of `n_init` explicitly to suppress the warning\n",
      "  super()._check_params_vs_input(X, default_n_init=10)\n"
     ]
    }
   ],
   "source": [
    "import numpy as np\n",
    "from sklearn.cluster import KMeans\n",
    "\n",
    "# Get word embeddings for each description\n",
    "description_embeddings = []\n",
    "for description in product_descriptions['cleaned_description']:\n",
    "    embeddings = [word2vec_model.wv[word] for word in description if word in word2vec_model.wv]\n",
    "    if embeddings:\n",
    "        aggregated_embedding = np.mean(embeddings, axis=0)\n",
    "        description_embeddings.append(aggregated_embedding)\n",
    "\n",
    "# Ensure all embeddings have the same length\n",
    "X = np.array(description_embeddings)\n",
    "if len(X) == 0:\n",
    "    print(\"No embeddings generated. Please check your preprocessing steps.\")\n",
    "else:\n",
    "    # Cluster descriptions using KMeans\n",
    "    kmeans = KMeans(n_clusters=10, init='k-means++')\n",
    "    y_kmeans = kmeans.fit_predict(X)"
   ]
  },
  {
   "cell_type": "markdown",
   "id": "29d8bfe8",
   "metadata": {},
   "source": [
    "# Print Top Words in Each Cluster Based on Word2Vec Embeddings\n",
    "\n"
   ]
  },
  {
   "cell_type": "code",
   "execution_count": 28,
   "id": "4f3196b0",
   "metadata": {},
   "outputs": [
    {
     "name": "stdout",
     "output_type": "stream",
     "text": [
      "Cluster 0:\n",
      "elegant\n",
      "beautiful\n",
      "contemporary\n",
      "style\n",
      "corner\n",
      "classic\n",
      "modern\n",
      "arched\n",
      "curved\n",
      "cabinet\n",
      "Cluster 1:\n",
      "chisel\n",
      "pliers\n",
      "punches\n",
      "jaws\n",
      "cutter\n",
      "drills\n",
      "serrated\n",
      "cutters\n",
      "vise\n",
      "angleselectric\n",
      "Cluster 2:\n",
      "pipe\n",
      "tee\n",
      "coupling\n",
      "tubing\n",
      "conduit\n",
      "couplings\n",
      "fitting\n",
      "collarfor\n",
      "setscrew\n",
      "elbow\n",
      "Cluster 3:\n",
      "light\n",
      "lights\n",
      "lighting\n",
      "lamp\n",
      "detailedhome\n",
      "lamps\n",
      "pendants\n",
      "fixture\n",
      "chandelier\n",
      "incandescent\n",
      "Cluster 4:\n",
      "attached\n",
      "slide\n",
      "four\n",
      "corner\n",
      "place\n",
      "hooks\n",
      "two\n",
      "ladder\n",
      "hook\n",
      "hanger\n",
      "Cluster 5:\n",
      "faucet\n",
      "tub\n",
      "sink\n",
      "bathroom\n",
      "bathtub\n",
      "bath\n",
      "faucets\n",
      "lavatory\n",
      "basin\n",
      "handshower\n",
      "Cluster 6:\n",
      "beds\n",
      "seedsspecially\n",
      "bed\n",
      "socketwatt\n",
      "mattress\n",
      "also\n",
      "myco\n",
      "like\n",
      "place\n",
      "piles\n",
      "Cluster 7:\n",
      "power\n",
      "xshm\n",
      "aicresets\n",
      "movesfor\n",
      "ports\n",
      "pulse\n",
      "device\n",
      "functions\n",
      "todaylight\n",
      "mode\n",
      "Cluster 8:\n",
      "paint\n",
      "formula\n",
      "waterbased\n",
      "oilbased\n",
      "paints\n",
      "latex\n",
      "aerosol\n",
      "topcoat\n",
      "sealer\n",
      "primer\n",
      "Cluster 9:\n",
      "ninety\n",
      "settingsweighs\n",
      "unicycle\n",
      "streaksmaintains\n",
      "effectversatile\n",
      "availableprobe\n",
      "hemi\n",
      "sealeronline\n",
      "sunloving\n",
      "adhesiveoccasional\n"
     ]
    }
   ],
   "source": [
    "def print_cluster(cluster_id):\n",
    "    print(f\"Cluster {cluster_id}:\")\n",
    "    cluster_center = kmeans.cluster_centers_[cluster_id]\n",
    "    most_similar_words = word2vec_model.wv.similar_by_vector(cluster_center, topn=10)\n",
    "    for word, similarity in most_similar_words:\n",
    "        print(word)\n",
    "\n",
    "# Print top words in each cluster\n",
    "for i in range(10):\n",
    "    print_cluster(i)"
   ]
  },
  {
   "cell_type": "markdown",
   "id": "ba6dfbf3",
   "metadata": {},
   "source": [
    "# Predict Clusters Based on Key Search Words Using Word2Vec Embeddings\n",
    "\n"
   ]
  },
  {
   "cell_type": "code",
   "execution_count": 29,
   "id": "feb0208e",
   "metadata": {},
   "outputs": [
    {
     "name": "stdout",
     "output_type": "stream",
     "text": [
      "Cluster ID:\n",
      "Cluster 1\n",
      "Cluster 1:\n",
      "chisel\n",
      "pliers\n",
      "punches\n",
      "jaws\n",
      "cutter\n",
      "drills\n",
      "serrated\n",
      "cutters\n",
      "vise\n",
      "angleselectric\n"
     ]
    }
   ],
   "source": [
    "def show_recommendations(product):\n",
    "    print(\"Cluster ID:\")\n",
    "    product_embedding = np.mean([word2vec_model.wv[word] for word in product.lower().split() if word in word2vec_model.wv], axis=0).reshape(1, -1)\n",
    "    prediction = kmeans.predict(product_embedding)\n",
    "    print(f\"Cluster {prediction[0]}\")\n",
    "    print_cluster(prediction[0])\n",
    "\n",
    "# Example usage\n",
    "show_recommendations(\"cutting tool\")"
   ]
  },
  {
   "cell_type": "code",
   "execution_count": 30,
   "id": "b82be103",
   "metadata": {},
   "outputs": [
    {
     "name": "stdout",
     "output_type": "stream",
     "text": [
      "Cluster ID:\n",
      "Cluster 8\n",
      "Cluster 8:\n",
      "paint\n",
      "formula\n",
      "waterbased\n",
      "oilbased\n",
      "paints\n",
      "latex\n",
      "aerosol\n",
      "topcoat\n",
      "sealer\n",
      "primer\n"
     ]
    }
   ],
   "source": [
    "show_recommendations(\"spray paint\")\n"
   ]
  },
  {
   "cell_type": "code",
   "execution_count": 31,
   "id": "8122468b",
   "metadata": {},
   "outputs": [
    {
     "name": "stdout",
     "output_type": "stream",
     "text": [
      "Cluster ID:\n",
      "Cluster 7\n",
      "Cluster 7:\n",
      "power\n",
      "xshm\n",
      "aicresets\n",
      "movesfor\n",
      "ports\n",
      "pulse\n",
      "device\n",
      "functions\n",
      "todaylight\n",
      "mode\n"
     ]
    }
   ],
   "source": [
    "show_recommendations(\"water filter\")"
   ]
  },
  {
   "cell_type": "code",
   "execution_count": 32,
   "id": "c6907aa3",
   "metadata": {},
   "outputs": [
    {
     "name": "stdout",
     "output_type": "stream",
     "text": [
      "Cluster ID:\n",
      "Cluster 1\n",
      "Cluster 1:\n",
      "chisel\n",
      "pliers\n",
      "punches\n",
      "jaws\n",
      "cutter\n",
      "drills\n",
      "serrated\n",
      "cutters\n",
      "vise\n",
      "angleselectric\n"
     ]
    }
   ],
   "source": [
    "show_recommendations(\"steel drill\")\n"
   ]
  },
  {
   "cell_type": "code",
   "execution_count": 33,
   "id": "fcc027b4",
   "metadata": {},
   "outputs": [
    {
     "name": "stdout",
     "output_type": "stream",
     "text": [
      "Cluster ID:\n",
      "Cluster 5\n",
      "Cluster 5:\n",
      "faucet\n",
      "tub\n",
      "sink\n",
      "bathroom\n",
      "bathtub\n",
      "bath\n",
      "faucets\n",
      "lavatory\n",
      "basin\n",
      "handshower\n"
     ]
    }
   ],
   "source": [
    "show_recommendations(\"water\")\n"
   ]
  },
  {
   "cell_type": "markdown",
   "id": "a72a9f6f",
   "metadata": {},
   "source": [
    "Once a cluster is identified based on the user's search words, the recommendation system\n",
    "can display items from the corresponding product clusters based on the product\n",
    "descriptions.\n"
   ]
  },
  {
   "cell_type": "markdown",
   "id": "af9fb7ee",
   "metadata": {},
   "source": [
    "# Summary\n"
   ]
  },
  {
   "cell_type": "markdown",
   "id": "695dd5b8",
   "metadata": {},
   "source": [
    "This works best if a business is setting up its e-commerce website for the first time and does\n",
    "not have user-item purchase/rating history to start with initally. This recommendation\n",
    "system will help the users get a good recommendation to start with and once the buyers\n",
    "have a purchased history, the recommendation engine can use the model based\n",
    "collaborative filtering technique.\n"
   ]
  },
  {
   "cell_type": "code",
   "execution_count": null,
   "id": "cf810fb2",
   "metadata": {},
   "outputs": [],
   "source": []
  }
 ],
 "metadata": {
  "kernelspec": {
   "display_name": "Python 3 (ipykernel)",
   "language": "python",
   "name": "python3"
  },
  "language_info": {
   "codemirror_mode": {
    "name": "ipython",
    "version": 3
   },
   "file_extension": ".py",
   "mimetype": "text/x-python",
   "name": "python",
   "nbconvert_exporter": "python",
   "pygments_lexer": "ipython3",
   "version": "3.11.4"
  }
 },
 "nbformat": 4,
 "nbformat_minor": 5
}
